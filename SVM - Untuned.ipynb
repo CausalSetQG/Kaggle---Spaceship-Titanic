{
 "cells": [
  {
   "cell_type": "code",
   "execution_count": 7,
   "metadata": {},
   "outputs": [],
   "source": [
    "import pandas as pd\n",
    "from sklearn.svm import SVC\n",
    "from sklearn.model_selection import RandomizedSearchCV\n",
    "\n",
    "train = pd.read_csv(\"C:\\\\Users\\\\joshn\\\\Documents\\\\Coding\\\\Spaceship Titanic\\\\Stacking\\\\Process\\\\CombinedTrain.csv\")\n",
    "test = pd.read_csv(\"C:\\\\Users\\\\joshn\\\\Documents\\\\Coding\\\\Spaceship Titanic\\\\Stacking\\\\Process\\\\CombinedTest.csv\")\n",
    "\n",
    "# Separate ID before training\n",
    "train_passenger_ids = train['PassengerId']\n",
    "test_passenger_ids = test['PassengerId']\n",
    "\n",
    "# Prepare data\n",
    "X_train = train.drop(['Transported', 'PassengerId'], axis=1)\n",
    "y_train = train['Transported'].astype('int')  # Convert True/False to 1/0\n",
    "X_test = test.drop('PassengerId', axis=1)"
   ]
  },
  {
   "cell_type": "code",
   "execution_count": 8,
   "metadata": {},
   "outputs": [],
   "source": [
    "# Define the SVM model\n",
    "model_svm = SVC(random_state=1)\n",
    "\n",
    "model_svm.fit(X_train, y_train)\n",
    "\n",
    "# Make predictions\n",
    "y_test_pred_svm = model_svm.predict(X_test)\n",
    "\n",
    "# Prepare submission\n",
    "test_predictions_svm = pd.DataFrame({\n",
    "    'PassengerId': test_passenger_ids,\n",
    "    'Transported': y_test_pred_svm\n",
    "})\n",
    "\n",
    "# Convert predictions to boolean\n",
    "test_predictions_svm['Transported'] = test_predictions_svm['Transported'].astype(bool)\n",
    "\n",
    "# Export to CSV\n",
    "test_predictions_svm.to_csv(\"C:\\\\Users\\\\joshn\\\\Documents\\\\Coding\\\\Spaceship Titanic\\\\Stacking\\\\Test\\\\Submission - SVM.csv\", index=False)\n",
    "\n",
    "### HIGHEST ACCURACY YET AT 0.8036\n"
   ]
  }
 ],
 "metadata": {
  "kernelspec": {
   "display_name": "Python 3",
   "language": "python",
   "name": "python3"
  },
  "language_info": {
   "codemirror_mode": {
    "name": "ipython",
    "version": 3
   },
   "file_extension": ".py",
   "mimetype": "text/x-python",
   "name": "python",
   "nbconvert_exporter": "python",
   "pygments_lexer": "ipython3",
   "version": "3.11.4"
  }
 },
 "nbformat": 4,
 "nbformat_minor": 2
}
